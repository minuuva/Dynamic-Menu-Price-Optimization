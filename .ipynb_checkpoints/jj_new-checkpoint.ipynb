{
 "cells": [
  {
   "cell_type": "code",
   "execution_count": 3,
   "id": "cb473625-3517-479e-a955-1eee39b8fc91",
   "metadata": {
    "scrolled": true
   },
   "outputs": [
    {
     "data": {
      "text/html": [
       "<div>\n",
       "<style scoped>\n",
       "    .dataframe tbody tr th:only-of-type {\n",
       "        vertical-align: middle;\n",
       "    }\n",
       "\n",
       "    .dataframe tbody tr th {\n",
       "        vertical-align: top;\n",
       "    }\n",
       "\n",
       "    .dataframe thead th {\n",
       "        text-align: right;\n",
       "    }\n",
       "</style>\n",
       "<table border=\"1\" class=\"dataframe\">\n",
       "  <thead>\n",
       "    <tr style=\"text-align: right;\">\n",
       "      <th></th>\n",
       "      <th>Date</th>\n",
       "      <th>Day of Week</th>\n",
       "      <th>Order</th>\n",
       "      <th>Price</th>\n",
       "      <th>Cost</th>\n",
       "    </tr>\n",
       "  </thead>\n",
       "  <tbody>\n",
       "    <tr>\n",
       "      <th>0</th>\n",
       "      <td>2023-01-01</td>\n",
       "      <td>Sunday</td>\n",
       "      <td>Strawberry Joyful</td>\n",
       "      <td>6500</td>\n",
       "      <td>2611.610</td>\n",
       "    </tr>\n",
       "    <tr>\n",
       "      <th>1</th>\n",
       "      <td>2023-01-01</td>\n",
       "      <td>Sunday</td>\n",
       "      <td>Kiwi Delight</td>\n",
       "      <td>6500</td>\n",
       "      <td>2264.615</td>\n",
       "    </tr>\n",
       "    <tr>\n",
       "      <th>2</th>\n",
       "      <td>2023-01-02</td>\n",
       "      <td>Monday</td>\n",
       "      <td>Seasonal Cup Fruit (9oz)</td>\n",
       "      <td>7000</td>\n",
       "      <td>1000.000</td>\n",
       "    </tr>\n",
       "    <tr>\n",
       "      <th>3</th>\n",
       "      <td>2023-01-02</td>\n",
       "      <td>Monday</td>\n",
       "      <td>Seasonal Cup Fruit (9oz)</td>\n",
       "      <td>7000</td>\n",
       "      <td>1000.000</td>\n",
       "    </tr>\n",
       "    <tr>\n",
       "      <th>4</th>\n",
       "      <td>2023-01-02</td>\n",
       "      <td>Monday</td>\n",
       "      <td>Seasonal Cup Fruit (9oz)</td>\n",
       "      <td>7000</td>\n",
       "      <td>1000.000</td>\n",
       "    </tr>\n",
       "  </tbody>\n",
       "</table>\n",
       "</div>"
      ],
      "text/plain": [
       "         Date Day of Week                     Order  Price      Cost\n",
       "0  2023-01-01      Sunday         Strawberry Joyful   6500  2611.610\n",
       "1  2023-01-01      Sunday              Kiwi Delight   6500  2264.615\n",
       "2  2023-01-02      Monday  Seasonal Cup Fruit (9oz)   7000  1000.000\n",
       "3  2023-01-02      Monday  Seasonal Cup Fruit (9oz)   7000  1000.000\n",
       "4  2023-01-02      Monday  Seasonal Cup Fruit (9oz)   7000  1000.000"
      ]
     },
     "execution_count": 3,
     "metadata": {},
     "output_type": "execute_result"
    }
   ],
   "source": [
    "import pandas as pd\n",
    "from sklearn.preprocessing import StandardScaler\n",
    "from sklearn.cluster import KMeans\n",
    "import matplotlib.pyplot as plt\n",
    "\n",
    "jj = pd.read_csv('jj_translate_1.0.csv')\n",
    "jj.head()"
   ]
  },
  {
   "cell_type": "code",
   "execution_count": 7,
   "id": "da44b93c-78a6-4d25-9b1c-87802f3cffcc",
   "metadata": {},
   "outputs": [],
   "source": [
    "# Step 1: Extract relevant features\n",
    "# Here, we assume 'Order', 'Price', and 'Cost' are columns in your data\n",
    "jj['Sales Frequency'] = jj.groupby('Order')['Order'].transform('count')\n",
    "features = jj[['Price', 'Cost', 'Sales Frequency']]"
   ]
  },
  {
   "cell_type": "code",
   "execution_count": 9,
   "id": "e94ba701-3cae-49a7-afba-8f71038897dd",
   "metadata": {},
   "outputs": [],
   "source": [
    "# Step 2: Normalize the features\n",
    "scaler = StandardScaler()\n",
    "normalized_features = scaler.fit_transform(features)"
   ]
  },
  {
   "cell_type": "code",
   "execution_count": 11,
   "id": "5cbae13b-dab3-4ff2-811a-aae39ca18fa7",
   "metadata": {},
   "outputs": [
    {
     "name": "stderr",
     "output_type": "stream",
     "text": [
      "/opt/anaconda3/lib/python3.11/site-packages/sklearn/cluster/_kmeans.py:870: FutureWarning: The default value of `n_init` will change from 10 to 'auto' in 1.4. Set the value of `n_init` explicitly to suppress the warning\n",
      "  warnings.warn(\n",
      "/opt/anaconda3/lib/python3.11/site-packages/sklearn/cluster/_kmeans.py:870: FutureWarning: The default value of `n_init` will change from 10 to 'auto' in 1.4. Set the value of `n_init` explicitly to suppress the warning\n",
      "  warnings.warn(\n",
      "/opt/anaconda3/lib/python3.11/site-packages/sklearn/cluster/_kmeans.py:870: FutureWarning: The default value of `n_init` will change from 10 to 'auto' in 1.4. Set the value of `n_init` explicitly to suppress the warning\n",
      "  warnings.warn(\n",
      "/opt/anaconda3/lib/python3.11/site-packages/sklearn/cluster/_kmeans.py:870: FutureWarning: The default value of `n_init` will change from 10 to 'auto' in 1.4. Set the value of `n_init` explicitly to suppress the warning\n",
      "  warnings.warn(\n",
      "/opt/anaconda3/lib/python3.11/site-packages/sklearn/cluster/_kmeans.py:870: FutureWarning: The default value of `n_init` will change from 10 to 'auto' in 1.4. Set the value of `n_init` explicitly to suppress the warning\n",
      "  warnings.warn(\n",
      "/opt/anaconda3/lib/python3.11/site-packages/sklearn/cluster/_kmeans.py:870: FutureWarning: The default value of `n_init` will change from 10 to 'auto' in 1.4. Set the value of `n_init` explicitly to suppress the warning\n",
      "  warnings.warn(\n",
      "/opt/anaconda3/lib/python3.11/site-packages/sklearn/cluster/_kmeans.py:870: FutureWarning: The default value of `n_init` will change from 10 to 'auto' in 1.4. Set the value of `n_init` explicitly to suppress the warning\n",
      "  warnings.warn(\n",
      "/opt/anaconda3/lib/python3.11/site-packages/sklearn/cluster/_kmeans.py:870: FutureWarning: The default value of `n_init` will change from 10 to 'auto' in 1.4. Set the value of `n_init` explicitly to suppress the warning\n",
      "  warnings.warn(\n",
      "/opt/anaconda3/lib/python3.11/site-packages/sklearn/cluster/_kmeans.py:870: FutureWarning: The default value of `n_init` will change from 10 to 'auto' in 1.4. Set the value of `n_init` explicitly to suppress the warning\n",
      "  warnings.warn(\n",
      "/opt/anaconda3/lib/python3.11/site-packages/sklearn/cluster/_kmeans.py:870: FutureWarning: The default value of `n_init` will change from 10 to 'auto' in 1.4. Set the value of `n_init` explicitly to suppress the warning\n",
      "  warnings.warn(\n"
     ]
    }
   ],
   "source": [
    "# Step 3: Apply K-Means Clustering\n",
    "# Find the optimal number of clusters using the Elbow Method\n",
    "wcss = []\n",
    "for i in range(1, 11):\n",
    "    kmeans = KMeans(n_clusters=i, init='k-means++', random_state=42)\n",
    "    kmeans.fit(normalized_features)\n",
    "    wcss.append(kmeans.inertia_)"
   ]
  },
  {
   "cell_type": "code",
   "execution_count": 13,
   "id": "66053164-9f18-47e4-80bb-d3ab1234d96d",
   "metadata": {},
   "outputs": [
    {
     "data": {
      "image/png": "[encoded data removed]",
      "text/plain": [
       "<Figure size 800x500 with 1 Axes>"
      ]
     },
     "metadata": {},
     "output_type": "display_data"
    }
   ],
   "source": [
    "# Plot the Elbow Graph\n",
    "plt.figure(figsize=(8, 5))\n",
    "plt.plot(range(1, 11), wcss, marker='o')\n",
    "plt.title('Elbow Method for Optimal Clusters')\n",
    "plt.xlabel('Number of Clusters')\n",
    "plt.ylabel('WCSS')\n",
    "plt.show()"
   ]
  },
  {
   "cell_type": "code",
   "execution_count": 15,
   "id": "8427a3e8-db44-4b41-879f-fe863a9b7100",
   "metadata": {},
   "outputs": [
    {
     "name": "stdout",
     "output_type": "stream",
     "text": [
      "                      Order  Price      Cost  Sales Frequency  Cluster\n",
      "0         Strawberry Joyful   6500  2611.610                7        2\n",
      "1              Kiwi Delight   6500  2264.615                1        2\n",
      "2  Seasonal Cup Fruit (9oz)   7000  1000.000                5        0\n",
      "3  Seasonal Cup Fruit (9oz)   7000  1000.000                5        0\n",
      "4  Seasonal Cup Fruit (9oz)   7000  1000.000                5        0\n"
     ]
    },
    {
     "name": "stderr",
     "output_type": "stream",
     "text": [
      "/opt/anaconda3/lib/python3.11/site-packages/sklearn/cluster/_kmeans.py:870: FutureWarning: The default value of `n_init` will change from 10 to 'auto' in 1.4. Set the value of `n_init` explicitly to suppress the warning\n",
      "  warnings.warn(\n"
     ]
    }
   ],
   "source": [
    "optimal_k = 5\n",
    "\n",
    "# Apply K-Means Clustering with the optimal number of clusters\n",
    "kmeans_optimal = KMeans(n_clusters=optimal_k, init='k-means++', random_state=42)\n",
    "jj['Cluster'] = kmeans_optimal.fit_predict(normalized_features)\n",
    "\n",
    "# Display the cluster assignments\n",
    "print(jj[['Order', 'Price', 'Cost', 'Sales Frequency', 'Cluster']].head())\n"
   ]
  },
  {
   "cell_type": "code",
   "execution_count": 17,
   "id": "b8659ee5-a527-47dc-a632-9586018b3865",
   "metadata": {},
   "outputs": [
    {
     "name": "stdout",
     "output_type": "stream",
     "text": [
      "\n",
      "Cluster 0 Summary:\n",
      "             Price         Cost  Sales Frequency\n",
      "count   112.000000   112.000000       112.000000\n",
      "mean   6758.928571  1126.387500         4.660714\n",
      "std     408.149763   339.412987         2.484378\n",
      "min    6000.000000   498.000000         1.000000\n",
      "25%    6500.000000   910.800000         3.000000\n",
      "50%    6500.000000  1000.000000         4.000000\n",
      "75%    7000.000000  1488.700000         7.000000\n",
      "max    7500.000000  1743.000000         9.000000\n",
      "\n",
      "Cluster 1 Summary:\n",
      "             Price         Cost  Sales Frequency\n",
      "count    18.000000    18.000000        18.000000\n",
      "mean   4750.000000   913.202222         4.888889\n",
      "std     492.592183   209.542918         1.490712\n",
      "min    4000.000000   636.300000         1.000000\n",
      "25%    4250.000000   669.800000         5.000000\n",
      "50%    5000.000000  1000.000000         5.000000\n",
      "75%    5000.000000  1000.000000         6.000000\n",
      "max    5500.000000  1452.340000         6.000000\n",
      "\n",
      "Cluster 2 Summary:\n",
      "             Price         Cost  Sales Frequency\n",
      "count    64.000000    64.000000        64.000000\n",
      "mean   6640.625000  2326.856484         5.531250\n",
      "std     361.530587   365.651272         2.883829\n",
      "min    6000.000000  1900.700000         1.000000\n",
      "25%    6500.000000  2000.000000         2.750000\n",
      "50%    6500.000000  2310.957500         6.000000\n",
      "75%    6500.000000  2611.610000         8.000000\n",
      "max    7500.000000  3270.000000         9.000000\n",
      "\n",
      "Cluster 3 Summary:\n",
      "             Price         Cost  Sales Frequency\n",
      "count   101.000000   101.000000       101.000000\n",
      "mean   7009.900990  1275.731287        17.693069\n",
      "std     264.387954   304.810103         3.772910\n",
      "min    6500.000000  1002.500000        12.000000\n",
      "25%    7000.000000  1006.500000        15.000000\n",
      "50%    7000.000000  1274.800000        18.000000\n",
      "75%    7000.000000  1287.000000        21.000000\n",
      "max    7500.000000  2192.500000        22.000000\n",
      "\n",
      "Cluster 4 Summary:\n",
      "         Price    Cost  Sales Frequency\n",
      "count      2.0     2.0              2.0\n",
      "mean   13000.0  6000.0              2.0\n",
      "std        0.0     0.0              0.0\n",
      "min    13000.0  6000.0              2.0\n",
      "25%    13000.0  6000.0              2.0\n",
      "50%    13000.0  6000.0              2.0\n",
      "75%    13000.0  6000.0              2.0\n",
      "max    13000.0  6000.0              2.0\n"
     ]
    }
   ],
   "source": [
    "# Analyze each cluster to see the characteristics\n",
    "for cluster in range(optimal_k):\n",
    "    print(f\"\\nCluster {cluster} Summary:\")\n",
    "    cluster_data = jj[jj['Cluster'] == cluster]\n",
    "    print(cluster_data[['Order', 'Price', 'Cost', 'Sales Frequency']].describe())"
   ]
  },
  {
   "cell_type": "code",
   "execution_count": 19,
   "id": "43b0cdb3-af4c-47d9-9582-379583dca80a",
   "metadata": {},
   "outputs": [
    {
     "name": "stdout",
     "output_type": "stream",
     "text": [
      "Model for Cluster 0 trained.\n",
      "Model for Cluster 1 trained.\n",
      "Model for Cluster 2 trained.\n",
      "Model for Cluster 3 trained.\n",
      "Model for Cluster 4 trained.\n"
     ]
    }
   ],
   "source": [
    "from sklearn.linear_model import LinearRegression\n",
    "\n",
    "# Prepare to build a model for each cluster\n",
    "pricing_models = {}\n",
    "\n",
    "# Iterate over each cluster and build a model\n",
    "for cluster in range(optimal_k):\n",
    "    cluster_data = jj[jj['Cluster'] == cluster]\n",
    "    \n",
    "    # Define features and target\n",
    "    X = cluster_data[['Cost', 'Sales Frequency']].values  # Use relevant features\n",
    "    y = cluster_data['Price'].values\n",
    "    \n",
    "    # Train a linear regression model\n",
    "    model = LinearRegression()\n",
    "    model.fit(X, y)\n",
    "    \n",
    "    # Store the model\n",
    "    pricing_models[cluster] = model\n",
    "    print(f\"Model for Cluster {cluster} trained.\")"
   ]
  },
  {
   "cell_type": "code",
   "execution_count": 21,
   "id": "25aa5627-84a8-48bd-a0fc-d8ccc9746b16",
   "metadata": {},
   "outputs": [
    {
     "name": "stdout",
     "output_type": "stream",
     "text": [
      "\n",
      "Predicted Prices for Cluster 0:\n",
      "                      Order    Cost  Sales Frequency  Predicted Price\n",
      "2  Seasonal Cup Fruit (9oz)  1000.0                5      6783.243424\n",
      "3  Seasonal Cup Fruit (9oz)  1000.0                5      6783.243424\n",
      "4  Seasonal Cup Fruit (9oz)  1000.0                5      6783.243424\n",
      "7              Tomato Juice   797.5                7      6853.074952\n",
      "8               Lemon Juice  1037.5                7      6820.560912\n",
      "\n",
      "Predicted Prices for Cluster 1:\n",
      "                       Order    Cost  Sales Frequency  Predicted Price\n",
      "39   My Special Greek Yogurt  1000.0                6      4648.865058\n",
      "40   My Special Greek Yogurt  1000.0                6      4648.865058\n",
      "83   My Special Greek Yogurt  1000.0                6      4648.865058\n",
      "104                Americano  1000.0                5      4718.813002\n",
      "105                Americano  1000.0                5      4718.813002\n",
      "\n",
      "Predicted Prices for Cluster 2:\n",
      "                      Order      Cost  Sales Frequency  Predicted Price\n",
      "0         Strawberry Joyful  2611.610                7      6599.271153\n",
      "1              Kiwi Delight  2264.615                1      6918.420430\n",
      "6    Green Grape Kale Juice  2611.500                2      6918.422967\n",
      "10  Strawberry Greek Yogurt  2000.000                1      6869.723560\n",
      "11  Strawberry Lemon Breeze  2838.930                8      6577.270245\n",
      "\n",
      "Predicted Prices for Cluster 3:\n",
      "                            Order     Cost  Sales Frequency  Predicted Price\n",
      "5                Apple Kale Juice  1006.50               22      7096.505422\n",
      "12  Apple Lemon Kale Celery Juice  1853.50               18      6882.501528\n",
      "13                   Orange Juice  1287.00               13      6978.653213\n",
      "16                     Pear Juice  1002.50               15      7054.553322\n",
      "20             Apple Carrot Juice  1205.38               12      6990.795016\n",
      "\n",
      "Predicted Prices for Cluster 4:\n",
      "                    Order    Cost  Sales Frequency  Predicted Price\n",
      "41  Seasonal Fruit (17oz)  6000.0                2          13000.0\n",
      "56  Seasonal Fruit (17oz)  6000.0                2          13000.0\n"
     ]
    },
    {
     "name": "stderr",
     "output_type": "stream",
     "text": [
      "/var/folders/_m/4k5rm_gn2n7632wfv66lf1rm0000gn/T/ipykernel_10604/1533682114.py:7: SettingWithCopyWarning: \n",
      "A value is trying to be set on a copy of a slice from a DataFrame.\n",
      "Try using .loc[row_indexer,col_indexer] = value instead\n",
      "\n",
      "See the caveats in the documentation: https://pandas.pydata.org/pandas-docs/stable/user_guide/indexing.html#returning-a-view-versus-a-copy\n",
      "  cluster_data['Predicted Price'] = model.predict(cluster_data[['Cost', 'Sales Frequency']].values)\n",
      "/var/folders/_m/4k5rm_gn2n7632wfv66lf1rm0000gn/T/ipykernel_10604/1533682114.py:7: SettingWithCopyWarning: \n",
      "A value is trying to be set on a copy of a slice from a DataFrame.\n",
      "Try using .loc[row_indexer,col_indexer] = value instead\n",
      "\n",
      "See the caveats in the documentation: https://pandas.pydata.org/pandas-docs/stable/user_guide/indexing.html#returning-a-view-versus-a-copy\n",
      "  cluster_data['Predicted Price'] = model.predict(cluster_data[['Cost', 'Sales Frequency']].values)\n",
      "/var/folders/_m/4k5rm_gn2n7632wfv66lf1rm0000gn/T/ipykernel_10604/1533682114.py:7: SettingWithCopyWarning: \n",
      "A value is trying to be set on a copy of a slice from a DataFrame.\n",
      "Try using .loc[row_indexer,col_indexer] = value instead\n",
      "\n",
      "See the caveats in the documentation: https://pandas.pydata.org/pandas-docs/stable/user_guide/indexing.html#returning-a-view-versus-a-copy\n",
      "  cluster_data['Predicted Price'] = model.predict(cluster_data[['Cost', 'Sales Frequency']].values)\n",
      "/var/folders/_m/4k5rm_gn2n7632wfv66lf1rm0000gn/T/ipykernel_10604/1533682114.py:7: SettingWithCopyWarning: \n",
      "A value is trying to be set on a copy of a slice from a DataFrame.\n",
      "Try using .loc[row_indexer,col_indexer] = value instead\n",
      "\n",
      "See the caveats in the documentation: https://pandas.pydata.org/pandas-docs/stable/user_guide/indexing.html#returning-a-view-versus-a-copy\n",
      "  cluster_data['Predicted Price'] = model.predict(cluster_data[['Cost', 'Sales Frequency']].values)\n",
      "/var/folders/_m/4k5rm_gn2n7632wfv66lf1rm0000gn/T/ipykernel_10604/1533682114.py:7: SettingWithCopyWarning: \n",
      "A value is trying to be set on a copy of a slice from a DataFrame.\n",
      "Try using .loc[row_indexer,col_indexer] = value instead\n",
      "\n",
      "See the caveats in the documentation: https://pandas.pydata.org/pandas-docs/stable/user_guide/indexing.html#returning-a-view-versus-a-copy\n",
      "  cluster_data['Predicted Price'] = model.predict(cluster_data[['Cost', 'Sales Frequency']].values)\n"
     ]
    }
   ],
   "source": [
    "# Predict optimal prices for each cluster\n",
    "for cluster in range(optimal_k):\n",
    "    cluster_data = jj[jj['Cluster'] == cluster]\n",
    "    model = pricing_models[cluster]\n",
    "    \n",
    "    # Predict the price using the model\n",
    "    cluster_data['Predicted Price'] = model.predict(cluster_data[['Cost', 'Sales Frequency']].values)\n",
    "    \n",
    "    # Display the predicted prices\n",
    "    print(f\"\\nPredicted Prices for Cluster {cluster}:\")\n",
    "    print(cluster_data[['Order', 'Cost', 'Sales Frequency', 'Predicted Price']].head())"
   ]
  }
 ],
 "metadata": {
  "kernelspec": {
   "display_name": "Python 3 (ipykernel)",
   "language": "python",
   "name": "python3"
  },
  "language_info": {
   "codemirror_mode": {
    "name": "ipython",
    "version": 3
   },
   "file_extension": ".py",
   "mimetype": "text/x-python",
   "name": "python",
   "nbconvert_exporter": "python",
   "pygments_lexer": "ipython3",
   "version": "3.11.7"
  }
 },
 "nbformat": 4,
 "nbformat_minor": 5
}
